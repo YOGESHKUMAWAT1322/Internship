{
 "cells": [
  {
   "cell_type": "code",
   "execution_count": 13,
   "id": "d2c0accf",
   "metadata": {},
   "outputs": [],
   "source": [
    "#11. Write a python program to find the factorial of a number.\n",
    "\n",
    "def factorial(n):\n",
    "    if n == 0:\n",
    "        return 1\n",
    "    else:\n",
    "        return n * factorial(n-1)"
   ]
  },
  {
   "cell_type": "code",
   "execution_count": null,
   "id": "a08c69db",
   "metadata": {},
   "outputs": [],
   "source": [
    "# Test the function\n",
    "num = int(input(\"Enter a number to find its factorial: \"))\n",
    "if num < 0:\n",
    "    print(\"Factorial is not defined for negative numbers.\")\n",
    "else:\n",
    "    print(\"Factorial of\", num, \"is\", factorial(num))"
   ]
  },
  {
   "cell_type": "code",
   "execution_count": null,
   "id": "acda7a31",
   "metadata": {},
   "outputs": [],
   "source": [
    "#12. Write a python program to find whether a number is prime or composite.\n",
    "#Ans: Certainly! Here's a Python program to determine whether a number is prime or composite:\n",
    "\n",
    "def is_prime(n):\n",
    "    if n <= 1:\n",
    "        return False\n",
    "    elif n <= 3:\n",
    "        return True\n",
    "    elif n % 2 == 0 or n % 3 == 0:\n",
    "        return False\n",
    "    i = 5\n",
    "    while i * i <= n:\n",
    "        if n % i == 0 or n % (i + 2) == 0:\n",
    "            return False\n",
    "        i += 6\n",
    "    return True"
   ]
  },
  {
   "cell_type": "code",
   "execution_count": null,
   "id": "8793ee73",
   "metadata": {},
   "outputs": [],
   "source": [
    "# Test the function\n",
    "num = int(input(\"Enter a number to check whether it is prime or composite: \"))\n",
    "if is_prime(num):\n",
    "    print(num, \"is a prime number.\")\n",
    "else:\n",
    "    print(num, \"is a composite number.\")"
   ]
  },
  {
   "cell_type": "code",
   "execution_count": null,
   "id": "49f64232",
   "metadata": {},
   "outputs": [],
   "source": [
    "#13. Write a python program to check whether a given string is palindrome or not.\n",
    "\n",
    "def is_palindrome(s):\n",
    "    s = ''.join(c.lower() for c in s if c.isalnum())\n",
    "    return s == s[::-1]\n",
    "# Check if the string is equal to its reverse"
   ]
  },
  {
   "cell_type": "code",
   "execution_count": null,
   "id": "2bbe74fc",
   "metadata": {},
   "outputs": [],
   "source": [
    "# Test the function\n",
    "string = input(\"Enter a string to check if it is a palindrome: \")\n",
    "if is_palindrome(string):\n",
    "    print(\"The string is a palindrome.\")\n",
    "else:\n",
    "    print(\"The string is not a palindrome.\")"
   ]
  },
  {
   "cell_type": "code",
   "execution_count": null,
   "id": "d3bc6828",
   "metadata": {},
   "outputs": [],
   "source": [
    "#14. Write a Python program to get the third side of right-angled triangle from two given sides.\n",
    "\n",
    "def calculate_third_side(side1, side2):\n",
    "    # Using the Pythagorean theorem: c^2 = a^2 + b^2\n",
    "    third_side = (side1**2 + side2**2)**0.5\n",
    "    return third_side\n",
    "\n",
    "# Test the function\n",
    "side1 = float(input(\"Enter the length of the first side: \"))\n",
    "side2 = float(input(\"Enter the length of the second side: \"))\n",
    "\n",
    "if side1 <= 0 or side2 <= 0:\n",
    "    print(\"Side lengths must be positive numbers.\")\n",
    "else:\n",
    "    third_side = calculate_third_side(side1, side2)\n",
    "    print(\"The length of the third side of the right-angled triangle is:\", third_side)"
   ]
  },
  {
   "cell_type": "code",
   "execution_count": null,
   "id": "3654e0f1",
   "metadata": {},
   "outputs": [],
   "source": [
    "#15. Write a python program to print the frequency of each of the characters present in a given string.\n",
    "\n",
    "def calculate_third_side(side1, side2):\n",
    "    third_side = (side1**2 + side2**2)**0.5\n",
    "    return third_side\n",
    "\n",
    "# Test the function\n",
    "side1 = float(input(\"Enter the length of the first side: \"))\n",
    "side2 = float(input(\"Enter the length of the second side: \"))\n",
    "\n",
    "\n",
    "if side1 <= 0 or side2 <= 0:\n",
    "    print(\"Side lengths must be positive numbers.\")\n",
    "else:\n",
    "    third_side = calculate_third_side(side1, side2)\n",
    "    print(\"The length of the third side of the right-angled triangle is:\", third_side)"
   ]
  },
  {
   "cell_type": "code",
   "execution_count": null,
   "id": "dabe45c3",
   "metadata": {},
   "outputs": [],
   "source": []
  },
  {
   "cell_type": "code",
   "execution_count": null,
   "id": "9c73f8d8",
   "metadata": {},
   "outputs": [],
   "source": []
  },
  {
   "cell_type": "code",
   "execution_count": null,
   "id": "0c7668c5",
   "metadata": {},
   "outputs": [],
   "source": []
  }
 ],
 "metadata": {
  "kernelspec": {
   "display_name": "Python 3 (ipykernel)",
   "language": "python",
   "name": "python3"
  },
  "language_info": {
   "codemirror_mode": {
    "name": "ipython",
    "version": 3
   },
   "file_extension": ".py",
   "mimetype": "text/x-python",
   "name": "python",
   "nbconvert_exporter": "python",
   "pygments_lexer": "ipython3",
   "version": "3.11.3"
  }
 },
 "nbformat": 4,
 "nbformat_minor": 5
}
